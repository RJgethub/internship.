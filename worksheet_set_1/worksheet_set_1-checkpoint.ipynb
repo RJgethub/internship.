{
 "cells": [
  {
   "cell_type": "code",
   "execution_count": null,
   "id": "8fa27715",
   "metadata": {},
   "outputs": [],
   "source": [
    "#program to find the factorial of a number."
   ]
  },
  {
   "cell_type": "code",
   "execution_count": 74,
   "id": "96643328",
   "metadata": {},
   "outputs": [
    {
     "name": "stdout",
     "output_type": "stream",
     "text": [
      "Enter the number of whose factorial to be found: 5.0\n",
      "Factorial = 120.0\n"
     ]
    }
   ],
   "source": [
    "i=float(input(\"Enter the number of whose factorial to be found: \"))\n",
    "f=1\n",
    "while (i>0):\n",
    "    f=f*i\n",
    "    i=i-1\n",
    "print (\"Factorial =\",f)"
   ]
  },
  {
   "cell_type": "code",
   "execution_count": 75,
   "id": "4253f5ae",
   "metadata": {},
   "outputs": [],
   "source": [
    "#program to find whether a number is prime or composite"
   ]
  },
  {
   "cell_type": "code",
   "execution_count": 69,
   "id": "f1c4aac7",
   "metadata": {},
   "outputs": [
    {
     "name": "stdout",
     "output_type": "stream",
     "text": [
      "enter any number: 12.9\n",
      "Entered number is composite number\n"
     ]
    }
   ],
   "source": [
    "n=float(input (\"enter any number: \"))\n",
    "count=0\n",
    "i=1\n",
    "while (i<=n):\n",
    "    if (n%i==0):\n",
    "        count=count+1\n",
    "    i=i+1\n",
    "if (count==2):\n",
    "    print (\"Entered number is prime number\")\n",
    "else:\n",
    "    print (\"Entered number is composite number\")"
   ]
  },
  {
   "cell_type": "code",
   "execution_count": null,
   "id": "ef7bc4de",
   "metadata": {},
   "outputs": [],
   "source": [
    "# program to check whether a given string is palindrome or not"
   ]
  },
  {
   "cell_type": "code",
   "execution_count": 47,
   "id": "e70a837c",
   "metadata": {},
   "outputs": [
    {
     "name": "stdout",
     "output_type": "stream",
     "text": [
      "enter any String: nayan\n",
      "string is pallindrome\n"
     ]
    }
   ],
   "source": [
    "n=input(\"enter any String: \")\n",
    "reverse=(n[::-1])\n",
    "if n==reverse:\n",
    "    print (\"string is pallindrome\")\n",
    "else :\n",
    "    print (\"string is not a pallindrome\")"
   ]
  },
  {
   "cell_type": "code",
   "execution_count": null,
   "id": "d38d3750",
   "metadata": {},
   "outputs": [],
   "source": [
    "# program to get the third side of right-angled triangle from two given sides"
   ]
  },
  {
   "cell_type": "code",
   "execution_count": 67,
   "id": "88b2774d",
   "metadata": {},
   "outputs": [
    {
     "name": "stdout",
     "output_type": "stream",
     "text": [
      "enter first side of triangle: 3.0\n",
      "enter second side of a triangle: 4.0\n",
      "the third side of right hand traingle is:  5.0\n"
     ]
    }
   ],
   "source": [
    "import math\n",
    "a=float(input(\"enter first side of triangle: \"))\n",
    "b=float(input(\"enter second side of a triangle: \"))\n",
    "c=(a**2) + (b**2);\n",
    "f=math.sqrt(c)\n",
    "print(\"the third side of right hand traingle is: \",f)\n"
   ]
  },
  {
   "cell_type": "code",
   "execution_count": 76,
   "id": "fb40a1d5",
   "metadata": {},
   "outputs": [],
   "source": [
    "#program to print the frequency of each of the characters present in a given string."
   ]
  },
  {
   "cell_type": "code",
   "execution_count": 82,
   "id": "c14f0915",
   "metadata": {},
   "outputs": [
    {
     "name": "stdout",
     "output_type": "stream",
     "text": [
      "Enter any string : papa\n",
      "Enter the character whose frequency you want to know : p\n",
      "p occurs 2 time(s)\n"
     ]
    }
   ],
   "source": [
    "a=input(\"Enter any string : \")\n",
    "b=input(\"Enter the character whose frequency you want to know : \")\n",
    "count=0\n",
    "for i in a:\n",
    "    if i==b:\n",
    "        count+=1\n",
    "print (b,\"occurs\",count,\"time(s)\")"
   ]
  },
  {
   "cell_type": "code",
   "execution_count": null,
   "id": "c1260ef8",
   "metadata": {},
   "outputs": [],
   "source": []
  }
 ],
 "metadata": {
  "kernelspec": {
   "display_name": "Python 3",
   "language": "python",
   "name": "python3"
  },
  "language_info": {
   "codemirror_mode": {
    "name": "ipython",
    "version": 3
   },
   "file_extension": ".py",
   "mimetype": "text/x-python",
   "name": "python",
   "nbconvert_exporter": "python",
   "pygments_lexer": "ipython3",
   "version": "3.8.8"
  }
 },
 "nbformat": 4,
 "nbformat_minor": 5
}
